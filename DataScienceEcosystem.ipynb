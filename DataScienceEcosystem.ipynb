{
 "cells": [
  {
   "cell_type": "markdown",
   "id": "d41422ce-5477-46d8-811c-b707e4999d96",
   "metadata": {},
   "source": [
    "# Data Science Tools and Ecosystem"
   ]
  },
  {
   "cell_type": "markdown",
   "id": "0f0b5396-259b-46ff-9dc6-b831d5817a96",
   "metadata": {},
   "source": [
    "In this notebook, Data Science Tools and Ecosystem are summarized."
   ]
  },
  {
   "cell_type": "markdown",
   "id": "0e435c13-5655-4db5-9030-0e2d4300be55",
   "metadata": {},
   "source": [
    "**Objectives:**\r\n",
    "\r\n",
    "- Learn how to evaluate arithmetic expressions in Python\r\n",
    "- Understand how to perform unit conversions (e.g., minutes to hours)\r\n",
    "- Explore popular open-source development environments for data science\r\n",
    "- Discover key data science tools used in the industry\r\n"
   ]
  },
  {
   "cell_type": "markdown",
   "id": "d0611969-1f79-4b8a-931f-db843ce078de",
   "metadata": {},
   "source": [
    "Some of the popular languages that Data Scientists use are:\n",
    "1. Python\n",
    "2. R\n",
    "3. SQL"
   ]
  },
  {
   "cell_type": "markdown",
   "id": "cd7fce32-e3fe-4042-8815-4edeb6890419",
   "metadata": {},
   "source": [
    "Some of the commonly used libraries used by Data Scientists include:\n",
    "1. Matplotlib\n",
    "2. Plotly\n",
    "3. Pandas"
   ]
  },
  {
   "cell_type": "markdown",
   "id": "53262bea-8f8b-4e48-bf99-d4e2fb6084b7",
   "metadata": {},
   "source": [
    "| Data Science Tools         |\n",
    "|----------------------------|\n",
    "| Jupyter Notebook           |\n",
    "| RStudio                    |\n",
    "| Apache Zeppelin            |\n"
   ]
  },
  {
   "cell_type": "markdown",
   "id": "6188f176-e557-4079-93c5-b3a3ec434985",
   "metadata": {},
   "source": [
    "### Below are a few examples of evaluating arithmetic expressions in Pythons:\r\n"
   ]
  },
  {
   "cell_type": "code",
   "execution_count": 2,
   "id": "140aaab4-d847-449c-999a-33d8d34d5ed2",
   "metadata": {},
   "outputs": [
    {
     "data": {
      "text/plain": [
       "17"
      ]
     },
     "execution_count": 2,
     "metadata": {},
     "output_type": "execute_result"
    }
   ],
   "source": [
    "# This is a simple arithmetic expression to multiply then add integers\n",
    "(3 * 4) + 5\n"
   ]
  },
  {
   "cell_type": "code",
   "execution_count": 3,
   "id": "e1128d3f-6f4a-4f42-a89a-7ea24651685f",
   "metadata": {},
   "outputs": [
    {
     "data": {
      "text/plain": [
       "3.3333333333333335"
      ]
     },
     "execution_count": 3,
     "metadata": {},
     "output_type": "execute_result"
    }
   ],
   "source": [
    "# This will convert 200 minutes to hours by dividing by 60\n",
    "200 / 60\n"
   ]
  }
 ],
 "metadata": {
  "kernelspec": {
   "display_name": "Python 3 (ipykernel)",
   "language": "python",
   "name": "python3"
  },
  "language_info": {
   "codemirror_mode": {
    "name": "ipython",
    "version": 3
   },
   "file_extension": ".py",
   "mimetype": "text/x-python",
   "name": "python",
   "nbconvert_exporter": "python",
   "pygments_lexer": "ipython3",
   "version": "3.12.4"
  }
 },
 "nbformat": 4,
 "nbformat_minor": 5
}
